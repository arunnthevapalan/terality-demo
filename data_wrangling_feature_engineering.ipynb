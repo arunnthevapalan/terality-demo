{
 "cells": [
  {
   "cell_type": "markdown",
   "id": "e75b0e79-7006-4ab8-84db-86ee2a4f0a2e",
   "metadata": {},
   "source": [
    "## Getting Started with Terality\n",
    "\n",
    "In this notebook, you'll get to experiment with Terality library from installing the library to performing Data Wrangling and Feature Engineering.\n",
    "\n",
    "### Installing and confguring the environment\n",
    "\n",
    "First create a free account on Terality. Head over to the [Terality website](https://www.terality.com/) and simply create your account.\n",
    "\n",
    "Once you successfully create the account, you will be directed to the Dashboard.\n",
    "\n",
    "<img src=\"images/dashboard.jpg\" align=\"center\"/>\n",
    "\n",
    "Follow the steps below to set up your environment. (Alternatively, you may follow the Quickstart instructions in the Terality Dashboard).\n",
    "\n",
    "1. The first step is to install the Terality library. To do so, execute the command below on your terminal.\n",
    "\n",
    "```\n",
    "pip install --upgrade terality\n",
    "```\n",
    "\n",
    "2. Next we have to generate and configure an API key. Navigate to the Terality Dashboard and click on Click here to generate an API key. An API key will be generated and displayed.\n",
    "\n",
    "<img src=\"images/get_api_key.jpg\" align=\"center\"/>\n",
    "\n",
    "(Please note that you won't be able to see the API key once you navigate from the Dashboard. Therefore, if you are not configuring immediately, save the API key in some secured location).\n",
    "    \n",
    "3. Execute the command below on your terminal to configure the Terality library. Replace the emailaddress@example.com with the email address you used for signup.\n",
    "\n",
    "```\n",
    "terality account configure --email emailaddress@example.com\n",
    "```\n",
    "\n",
    "Once you execute the above command, you will be prompt to enter **Your Terality API key**. Enter the API key generated in Step 2.Upon entering the key, a confirmation message will be displayed. *Terality account succesfully configured on this system.*\n",
    "\n"
   ]
  },
  {
   "cell_type": "markdown",
   "id": "3ff8d923-cd18-4f50-b785-7cb2cf2bfdfe",
   "metadata": {},
   "source": [
    "## Real-word Example: Data Wrangling and Feature Engineering\n",
    "\n",
    "To get hold of the benefits extended by the Terality library, let's get our hands dirty with a real-world example.\n",
    "For the demonstration, I have chosen to use the NYC Taxi dataset which is available in [AWS S3 open data registry](https://registry.opendata.aws/nyc-tlc-trip-records-pds/).\n",
    "\n",
    "The S3 bucket has data for Yellow taxi trips as well as for Green taxi trips. In our demonstration we'll be using the Yellow taxi trip data for the year of 2020.\n",
    "\n",
    "We'll be preparing our data for modeling but performing preprocessing steps."
   ]
  },
  {
   "cell_type": "markdown",
   "id": "a170a0cc-086e-4720-9070-b92d64e22d4c",
   "metadata": {},
   "source": [
    "Let's first import the Terality library and get our hands dirty with the preparation"
   ]
  },
  {
   "cell_type": "markdown",
   "id": "adbc5a6a-efce-4f02-8f75-28ec32a146af",
   "metadata": {},
   "source": [
    "### Import neccessary libraries"
   ]
  },
  {
   "cell_type": "code",
   "execution_count": 1,
   "id": "2ce07c40-c1f7-44e4-84fe-ca09fd0636e2",
   "metadata": {},
   "outputs": [
    {
     "name": "stderr",
     "output_type": "stream",
     "text": [
      "You are using version 0.12.25 of the Terality client, but version 0.12.26 is available. Consider upgrading your version to get the latest fixes and features.\n"
     ]
    }
   ],
   "source": [
    "import terality as te"
   ]
  },
  {
   "cell_type": "markdown",
   "id": "11584ce8-aa04-43f5-9588-8577a4ebdd5a",
   "metadata": {},
   "source": [
    "### Import Data"
   ]
  },
  {
   "cell_type": "code",
   "execution_count": 2,
   "id": "0a40e183-de1a-4f6a-9a21-d44ff5e13c69",
   "metadata": {},
   "outputs": [
    {
     "name": "stdout",
     "output_type": "stream",
     "text": [
      "Wall time: 3min 50s\n"
     ]
    }
   ],
   "source": [
    "%%time\n",
    "data = None\n",
    "\n",
    "for month in range(1,13):\n",
    "    s3_data_file = f\"s3://nyc-tlc/trip data/yellow_tripdata_2020-{str(month).zfill(2)}.csv\"\n",
    "    \n",
    "    if data is not None:\n",
    "        temp_df = te.read_csv(s3_data_file)\n",
    "        data = data.append(temp_df)\n",
    "    else:\n",
    "        data = te.read_csv(s3_data_file)"
   ]
  },
  {
   "cell_type": "markdown",
   "id": "25479bf9-205c-4fda-8719-576e1be119a1",
   "metadata": {},
   "source": [
    "### Explore Data\n",
    "\n",
    "In this section, we will explore and modify dataset as per the our requirment for the further analysis of the problem."
   ]
  },
  {
   "cell_type": "markdown",
   "id": "6013796f-6a30-42ce-bd28-d4fa00ce3f7a",
   "metadata": {},
   "source": [
    "As a first step, let's take a copy of the data and then start the preparation. The reason for doing this is, in case you make any undesired change to the dataframe, then you might need to load again from the S3 file.\n",
    "\n",
    "Instead, if you have a copy of the original dataframe, you can take another copy and keep on processing. Execute the cell below to take a copy of the data. You may execute this anytime you require the original dataframe in the later time."
   ]
  },
  {
   "cell_type": "code",
   "execution_count": 3,
   "id": "d75291cf-b3a4-4735-9416-f038c9044cd1",
   "metadata": {},
   "outputs": [],
   "source": [
    "# Take a copy of the orginal data\n",
    "taxi_data = data.copy()"
   ]
  },
  {
   "cell_type": "markdown",
   "id": "de2ea103-144c-49e3-926d-b0fc9cb36d8b",
   "metadata": {},
   "source": [
    "While importing the data, the data was loaded from multiple files and merged together. Therefore, the rows will have duplicate indices. To make it unique, let's reset the index."
   ]
  },
  {
   "cell_type": "code",
   "execution_count": 4,
   "id": "f4223c50-f62d-4077-a216-006826984e96",
   "metadata": {},
   "outputs": [],
   "source": [
    "# Reset index\n",
    "taxi_data = taxi_data.reset_index()"
   ]
  },
  {
   "cell_type": "markdown",
   "id": "016b86a0-92c6-49c3-a5e2-6fe2045c0def",
   "metadata": {},
   "source": [
    "Let's take a look at what the data looks like."
   ]
  },
  {
   "cell_type": "code",
   "execution_count": 5,
   "id": "db280e6b-d1d5-448a-bfb5-8734986d3256",
   "metadata": {},
   "outputs": [
    {
     "name": "stdout",
     "output_type": "stream",
     "text": [
      "<class 'terality.DataFrame'>\n",
      "Index: 24648499 entries, 0 to 24648498\n",
      "Data columns (total 19 columns):\n",
      " #   Column                 Dtype\n",
      "---  ------                 -----\n",
      " 0   index                  int64\n",
      " 1   VendorID               float64\n",
      " 2   tpep_pickup_datetime   object\n",
      " 3   tpep_dropoff_datetime  object\n",
      " 4   passenger_count        float64\n",
      " 5   trip_distance          float64\n",
      " 6   RatecodeID             float64\n",
      " 7   store_and_fwd_flag     object\n",
      " 8   PULocationID           int64\n",
      " 9   DOLocationID           int64\n",
      "10   payment_type           float64\n",
      "11   fare_amount            float64\n",
      "12   extra                  float64\n",
      "13   mta_tax                float64\n",
      "14   tip_amount             float64\n",
      "15   tolls_amount           float64\n",
      "16   improvement_surcharge  float64\n",
      "17   total_amount           float64\n",
      "18   congestion_surcharge   float64\n",
      "dtypes: int64(3), float64(13), object(3)\n",
      "memory usage: 7.9 GB (run with deep=True)\n"
     ]
    }
   ],
   "source": [
    "taxi_data.info()"
   ]
  },
  {
   "cell_type": "markdown",
   "id": "1998af7f-e902-4506-8905-fd74b8da468f",
   "metadata": {},
   "source": [
    "Observations\n",
    "\n",
    "- There are **24648499** records in our dataset.\n",
    "- Data consist of **19** columns.\n",
    "- The data type of each column is reflected next to it."
   ]
  },
  {
   "cell_type": "code",
   "execution_count": 6,
   "id": "56c630a8-4c38-4144-9dbf-a3154e04f412",
   "metadata": {},
   "outputs": [
    {
     "data": {
      "text/html": [
       "<div>\n",
       "<style scoped>\n",
       "    .dataframe tbody tr th:only-of-type {\n",
       "        vertical-align: middle;\n",
       "    }\n",
       "\n",
       "    .dataframe tbody tr th {\n",
       "        vertical-align: top;\n",
       "    }\n",
       "\n",
       "    .dataframe thead th {\n",
       "        text-align: right;\n",
       "    }\n",
       "</style>\n",
       "<table border=\"1\" class=\"dataframe\">\n",
       "  <thead>\n",
       "    <tr style=\"text-align: right;\">\n",
       "      <th></th>\n",
       "      <th>index</th>\n",
       "      <th>VendorID</th>\n",
       "      <th>tpep_pickup_datetime</th>\n",
       "      <th>tpep_dropoff_datetime</th>\n",
       "      <th>passenger_count</th>\n",
       "      <th>trip_distance</th>\n",
       "      <th>RatecodeID</th>\n",
       "      <th>store_and_fwd_flag</th>\n",
       "      <th>PULocationID</th>\n",
       "      <th>DOLocationID</th>\n",
       "      <th>payment_type</th>\n",
       "      <th>fare_amount</th>\n",
       "      <th>extra</th>\n",
       "      <th>mta_tax</th>\n",
       "      <th>tip_amount</th>\n",
       "      <th>tolls_amount</th>\n",
       "      <th>improvement_surcharge</th>\n",
       "      <th>total_amount</th>\n",
       "      <th>congestion_surcharge</th>\n",
       "    </tr>\n",
       "  </thead>\n",
       "  <tbody>\n",
       "    <tr>\n",
       "      <th>0</th>\n",
       "      <td>0</td>\n",
       "      <td>1.0</td>\n",
       "      <td>2020-01-01 00:28:15</td>\n",
       "      <td>2020-01-01 00:33:03</td>\n",
       "      <td>1.0</td>\n",
       "      <td>1.2</td>\n",
       "      <td>1.0</td>\n",
       "      <td>N</td>\n",
       "      <td>238</td>\n",
       "      <td>239</td>\n",
       "      <td>1.0</td>\n",
       "      <td>6.0</td>\n",
       "      <td>3.0</td>\n",
       "      <td>0.5</td>\n",
       "      <td>1.47</td>\n",
       "      <td>0.0</td>\n",
       "      <td>0.3</td>\n",
       "      <td>11.27</td>\n",
       "      <td>2.5</td>\n",
       "    </tr>\n",
       "    <tr>\n",
       "      <th>1</th>\n",
       "      <td>1</td>\n",
       "      <td>1.0</td>\n",
       "      <td>2020-01-01 00:35:39</td>\n",
       "      <td>2020-01-01 00:43:04</td>\n",
       "      <td>1.0</td>\n",
       "      <td>1.2</td>\n",
       "      <td>1.0</td>\n",
       "      <td>N</td>\n",
       "      <td>239</td>\n",
       "      <td>238</td>\n",
       "      <td>1.0</td>\n",
       "      <td>7.0</td>\n",
       "      <td>3.0</td>\n",
       "      <td>0.5</td>\n",
       "      <td>1.50</td>\n",
       "      <td>0.0</td>\n",
       "      <td>0.3</td>\n",
       "      <td>12.30</td>\n",
       "      <td>2.5</td>\n",
       "    </tr>\n",
       "    <tr>\n",
       "      <th>2</th>\n",
       "      <td>2</td>\n",
       "      <td>1.0</td>\n",
       "      <td>2020-01-01 00:47:41</td>\n",
       "      <td>2020-01-01 00:53:52</td>\n",
       "      <td>1.0</td>\n",
       "      <td>0.6</td>\n",
       "      <td>1.0</td>\n",
       "      <td>N</td>\n",
       "      <td>238</td>\n",
       "      <td>238</td>\n",
       "      <td>1.0</td>\n",
       "      <td>6.0</td>\n",
       "      <td>3.0</td>\n",
       "      <td>0.5</td>\n",
       "      <td>1.00</td>\n",
       "      <td>0.0</td>\n",
       "      <td>0.3</td>\n",
       "      <td>10.80</td>\n",
       "      <td>2.5</td>\n",
       "    </tr>\n",
       "    <tr>\n",
       "      <th>3</th>\n",
       "      <td>3</td>\n",
       "      <td>1.0</td>\n",
       "      <td>2020-01-01 00:55:23</td>\n",
       "      <td>2020-01-01 01:00:14</td>\n",
       "      <td>1.0</td>\n",
       "      <td>0.8</td>\n",
       "      <td>1.0</td>\n",
       "      <td>N</td>\n",
       "      <td>238</td>\n",
       "      <td>151</td>\n",
       "      <td>1.0</td>\n",
       "      <td>5.5</td>\n",
       "      <td>0.5</td>\n",
       "      <td>0.5</td>\n",
       "      <td>1.36</td>\n",
       "      <td>0.0</td>\n",
       "      <td>0.3</td>\n",
       "      <td>8.16</td>\n",
       "      <td>0.0</td>\n",
       "    </tr>\n",
       "    <tr>\n",
       "      <th>4</th>\n",
       "      <td>4</td>\n",
       "      <td>2.0</td>\n",
       "      <td>2020-01-01 00:01:58</td>\n",
       "      <td>2020-01-01 00:04:16</td>\n",
       "      <td>1.0</td>\n",
       "      <td>0.0</td>\n",
       "      <td>1.0</td>\n",
       "      <td>N</td>\n",
       "      <td>193</td>\n",
       "      <td>193</td>\n",
       "      <td>2.0</td>\n",
       "      <td>3.5</td>\n",
       "      <td>0.5</td>\n",
       "      <td>0.5</td>\n",
       "      <td>0.00</td>\n",
       "      <td>0.0</td>\n",
       "      <td>0.3</td>\n",
       "      <td>4.80</td>\n",
       "      <td>0.0</td>\n",
       "    </tr>\n",
       "  </tbody>\n",
       "</table>\n",
       "</div>"
      ],
      "text/plain": [
       "   index  VendorID  ... total_amount congestion_surcharge\n",
       "0      0       1.0  ...        11.27                  2.5\n",
       "1      1       1.0  ...        12.30                  2.5\n",
       "2      2       1.0  ...        10.80                  2.5\n",
       "3      3       1.0  ...         8.16                  0.0\n",
       "4      4       2.0  ...         4.80                  0.0\n",
       "\n",
       "[5 rows x 19 columns]"
      ]
     },
     "execution_count": 6,
     "metadata": {},
     "output_type": "execute_result"
    }
   ],
   "source": [
    "taxi_data.head()"
   ]
  },
  {
   "cell_type": "markdown",
   "id": "d75cb203-8282-4e92-b7fe-691fc2f7a43a",
   "metadata": {},
   "source": [
    "Let's try to understand what each column is\n",
    "\n",
    "**Feature details:**\n",
    "\n",
    "- `VendorID`: This is code indicating the record provider.\n",
    "- `tpep_pickup_datetime`: The date and time when the meter was engaged (started). \n",
    "- `tpep_dropoff_datetime`: The date and time when the meter was disengaged (ended).\n",
    "- `passenger_count`: The number of passengers in the vehicle. This is a driver entered value.\n",
    "- `trip_distance`: The elapsed trip distance in miles reported by the taximeter.\n",
    "- `RateCodeID`: The final rate code in effect at the end of the trip. 1= Standard rate, 2=JFK, 3=Newark, 4=Nassau or Westchester, 5=Negotiated fare, 6=Group ride\n",
    "- `store_and_fwd_flag`: This flag indicates whether the trip record was held in vehicle memory before sending to the vendor, aka “store and forward,” because the vehicle did not have a connection to the server. Y= store and forward trip N= not a store and forward trip\n",
    "- `PULocationID`: TLC Taxi Zone in which the taximeter was engaged.\n",
    "- `DOLocationID`: TLC Taxi Zone in which the taximeter was disengaged.\n",
    "- `payment_type`: A numeric code signifying how the passenger paid for the trip. 1= Credit card 2= Cash 3= No charge 4= Dispute 5= Unknown 6= Voided trip\n",
    "- `fare_amount`: The time and distance fare calculated by the meter.\n",
    "- `extra`: Miscellaneous extras and surcharges. Currently, this only includes the \\$0.50 and \\\\$1 rush hour and overnight charges respectively.\n",
    "- `mta_tax`: \\$0.50 MTA tax that is automatically triggered based on the metered rate in use.\n",
    "- `tip_amount`: Tip amount. This field is automatically populated for credit card tips. Cash tips are not included.\n",
    "- `tolls_amount`: Total amount of all tolls paid in trip. \n",
    "- `improvement_surcharge`: \\$0.30 improvement surcharge assessed on hailed trips at the flag drop. The improvement surcharge began being levied in 2015.\n",
    "- `congestion_surcharge`: Surcharge due to congestion\n",
    "\n",
    "\n",
    "**Label**\n",
    "- `total_amount`: The total amount charged to passengers. Does not include cash tips."
   ]
  },
  {
   "cell_type": "markdown",
   "id": "28e17b0f-a3da-437d-9581-af8c1e766e39",
   "metadata": {},
   "source": [
    "Now that we understand what each column represent, let's again have a look on the datatypes and see if we need to make any modifications to it. To have glance on the datatype of each column execute the cell below."
   ]
  },
  {
   "cell_type": "code",
   "execution_count": 7,
   "id": "4963c70b-f48d-4b4b-bd46-d2c12b517e9c",
   "metadata": {},
   "outputs": [
    {
     "data": {
      "text/plain": [
       "index                      int64\n",
       "VendorID                 float64\n",
       "tpep_pickup_datetime      object\n",
       "tpep_dropoff_datetime     object\n",
       "passenger_count          float64\n",
       "trip_distance            float64\n",
       "RatecodeID               float64\n",
       "store_and_fwd_flag        object\n",
       "PULocationID               int64\n",
       "DOLocationID               int64\n",
       "payment_type             float64\n",
       "fare_amount              float64\n",
       "extra                    float64\n",
       "mta_tax                  float64\n",
       "tip_amount               float64\n",
       "tolls_amount             float64\n",
       "improvement_surcharge    float64\n",
       "total_amount             float64\n",
       "congestion_surcharge     float64\n",
       "dtype: object"
      ]
     },
     "execution_count": 7,
     "metadata": {},
     "output_type": "execute_result"
    }
   ],
   "source": [
    "taxi_data.dtypes"
   ]
  },
  {
   "cell_type": "markdown",
   "id": "56fea8d2-7986-4a26-a171-bf1cb7192867",
   "metadata": {},
   "source": [
    "Here we can see the `tpep_pickup_datetime` and `tpep_dropoff_datetime` are of the type *Object*. Ideally, both of these features should be of datatype *datetime*.\n",
    "\n",
    "Therefore, we will now convert the data type of those 2 columns to *datetime*."
   ]
  },
  {
   "cell_type": "code",
   "execution_count": 8,
   "id": "4f934aa1-640e-4bb2-885f-5f703ee9a909",
   "metadata": {},
   "outputs": [],
   "source": [
    "taxi_data['tpep_pickup_datetime'] = te.to_datetime(taxi_data['tpep_pickup_datetime'])\n",
    "taxi_data['tpep_dropoff_datetime'] = te.to_datetime(taxi_data['tpep_dropoff_datetime'])"
   ]
  },
  {
   "cell_type": "markdown",
   "id": "0bfe1cf5-9d38-4690-92ed-d96a5b77f570",
   "metadata": {},
   "source": [
    "It's always good to check on the change we make. Let's now verify the data type change"
   ]
  },
  {
   "cell_type": "code",
   "execution_count": 9,
   "id": "5b314584-4bd1-42fa-ac66-296e99df06a6",
   "metadata": {},
   "outputs": [
    {
     "data": {
      "text/plain": [
       "index                             int64\n",
       "VendorID                        float64\n",
       "tpep_pickup_datetime     datetime64[ns]\n",
       "tpep_dropoff_datetime    datetime64[ns]\n",
       "passenger_count                 float64\n",
       "trip_distance                   float64\n",
       "RatecodeID                      float64\n",
       "store_and_fwd_flag               object\n",
       "PULocationID                      int64\n",
       "DOLocationID                      int64\n",
       "payment_type                    float64\n",
       "fare_amount                     float64\n",
       "extra                           float64\n",
       "mta_tax                         float64\n",
       "tip_amount                      float64\n",
       "tolls_amount                    float64\n",
       "improvement_surcharge           float64\n",
       "total_amount                    float64\n",
       "congestion_surcharge            float64\n",
       "dtype: object"
      ]
     },
     "execution_count": 9,
     "metadata": {},
     "output_type": "execute_result"
    }
   ],
   "source": [
    "taxi_data.dtypes"
   ]
  },
  {
   "cell_type": "markdown",
   "id": "c79f1ba0-7a0c-4cac-a93d-60cce9e3931b",
   "metadata": {},
   "source": [
    "We can see that the data type of `lpep_pickup_datetime` and `lpep_dropoff_datetime` are changed to *datetime*.\n",
    "\n",
    "Next, let's move to the next step of handing missing values."
   ]
  },
  {
   "cell_type": "markdown",
   "id": "696c1697-1615-4fb7-8b66-77a16e530e07",
   "metadata": {},
   "source": [
    "#### Handling null values"
   ]
  },
  {
   "cell_type": "markdown",
   "id": "c4926268-5548-438e-874b-b996005c50a9",
   "metadata": {},
   "source": [
    "To have a glance at the null values in the dataset, execute the cell below."
   ]
  },
  {
   "cell_type": "code",
   "execution_count": 10,
   "id": "4cb0fc14-2ee9-4da8-a56a-08a7fac12777",
   "metadata": {},
   "outputs": [
    {
     "data": {
      "text/plain": [
       "index                         0\n",
       "VendorID                 809568\n",
       "tpep_pickup_datetime          0\n",
       "tpep_dropoff_datetime         0\n",
       "passenger_count          809568\n",
       "trip_distance                 0\n",
       "RatecodeID               809568\n",
       "store_and_fwd_flag       809568\n",
       "PULocationID                  0\n",
       "DOLocationID                  0\n",
       "payment_type             809568\n",
       "fare_amount                   0\n",
       "extra                         0\n",
       "mta_tax                       0\n",
       "tip_amount                    0\n",
       "tolls_amount                  0\n",
       "improvement_surcharge         0\n",
       "total_amount                  0\n",
       "congestion_surcharge          0\n",
       "dtype: int64"
      ]
     },
     "execution_count": 10,
     "metadata": {},
     "output_type": "execute_result"
    }
   ],
   "source": [
    "taxi_data.isnull().sum()"
   ]
  },
  {
   "cell_type": "markdown",
   "id": "cbbc93f7-65c1-40bf-bc80-974bf321447f",
   "metadata": {},
   "source": [
    "Usually in any problem, missing values can be handled by any of the following ways\n",
    "\n",
    "1. Deleting Rows: Deleting all the records which have null values\n",
    "2. Replacing with Mean/Mode or Median\n",
    "3. Assigning new category\n",
    "4. Predicting the missing value\n",
    "5. Using algorithms which support missing values\n",
    "\n",
    "Before deciding on which we are about to do with the missing values, let's observe the count of missing values.\n",
    "\n",
    "It can be observed that *VendorID*, *passenger_count*, *RatecodeID*, *store_and_fwd_flag*, and *payment_type* columns have null values.\n",
    "\n",
    "- All columns: About 3% null values\n",
    "\n",
    "Given that we only have 3% of data having null values in the 5 columns, we can drop the respective rows.\n",
    "\n",
    "Let's drop the rows with null values and view the null sum again."
   ]
  },
  {
   "cell_type": "code",
   "execution_count": 11,
   "id": "29fa388a-87d5-4494-94db-4827fb51d034",
   "metadata": {},
   "outputs": [
    {
     "data": {
      "text/plain": [
       "index                    0\n",
       "VendorID                 0\n",
       "tpep_pickup_datetime     0\n",
       "tpep_dropoff_datetime    0\n",
       "passenger_count          0\n",
       "trip_distance            0\n",
       "RatecodeID               0\n",
       "store_and_fwd_flag       0\n",
       "PULocationID             0\n",
       "DOLocationID             0\n",
       "payment_type             0\n",
       "fare_amount              0\n",
       "extra                    0\n",
       "mta_tax                  0\n",
       "tip_amount               0\n",
       "tolls_amount             0\n",
       "improvement_surcharge    0\n",
       "total_amount             0\n",
       "congestion_surcharge     0\n",
       "dtype: int64"
      ]
     },
     "execution_count": 11,
     "metadata": {},
     "output_type": "execute_result"
    }
   ],
   "source": [
    "# Drop the rows with null values\n",
    "taxi_data.dropna(inplace=True)\n",
    "taxi_data.isnull().sum()"
   ]
  },
  {
   "cell_type": "markdown",
   "id": "04aaa3b1-680e-4f00-a52d-fb619809f2d0",
   "metadata": {},
   "source": [
    "Now our dataset does not contain any null values."
   ]
  },
  {
   "cell_type": "markdown",
   "id": "2f9879ba-d48c-464a-8662-8ee7a8a612d1",
   "metadata": {},
   "source": [
    "### Feature Engineering\n",
    "\n",
    "Feature engineering refers to the process of creating new input variables from the available data.\n",
    "\n",
    "Let's try very simple feature engineering with the data.\n",
    "\n",
    "Based on our analysis above, using the `tpep_pickup_datetime` and `tpep_dropoff_datetime` features, we can create more features.\n",
    "\n",
    "i.e., the pickup and drop day, pickup and drop hour, and pickup and drop month."
   ]
  },
  {
   "cell_type": "code",
   "execution_count": 13,
   "id": "fcd17779-cd80-45c1-b435-d7df69bdc750",
   "metadata": {},
   "outputs": [],
   "source": [
    "taxi_data['pickup_day']=taxi_data['tpep_pickup_datetime'].dt.day_name()\n",
    "taxi_data['dropoff_day']=taxi_data['tpep_dropoff_datetime'].dt.day_name()"
   ]
  },
  {
   "cell_type": "code",
   "execution_count": 14,
   "id": "354a526b-10c9-4c63-845a-de100af2cb3c",
   "metadata": {},
   "outputs": [],
   "source": [
    "taxi_data['pickup_day_no']=taxi_data['tpep_pickup_datetime'].dt.weekday\n",
    "taxi_data['dropoff_day_no']=taxi_data['tpep_dropoff_datetime'].dt.weekday"
   ]
  },
  {
   "cell_type": "code",
   "execution_count": 15,
   "id": "aad1c2c5-97b7-4c6b-a80c-fea1e95cd30a",
   "metadata": {},
   "outputs": [],
   "source": [
    "taxi_data['pickup_hour']=taxi_data['tpep_pickup_datetime'].dt.hour\n",
    "taxi_data['dropoff_hour']=taxi_data['tpep_dropoff_datetime'].dt.hour"
   ]
  },
  {
   "cell_type": "code",
   "execution_count": 16,
   "id": "5d673c63-9bf3-47fe-98f7-1620649ad03c",
   "metadata": {},
   "outputs": [],
   "source": [
    "taxi_data['pickup_month']=taxi_data['tpep_pickup_datetime'].dt.month\n",
    "taxi_data['dropoff_month']=taxi_data['tpep_dropoff_datetime'].dt.month"
   ]
  },
  {
   "cell_type": "markdown",
   "id": "5781ccb0-84d6-41fb-9a9c-9371f2db8535",
   "metadata": {},
   "source": [
    "## References\n",
    "\n",
    "1. https://github.com/aws-samples/cloud-experiments/tree/master/experiments/notebooks/exploring-data\n",
    "2. https://www.kaggle.com/nitin194/nyc-taxi-trip-duration-prediction\n",
    "3. https://registry.opendata.aws/nyc-tlc-trip-records-pds/"
   ]
  }
 ],
 "metadata": {
  "kernelspec": {
   "display_name": "datascience",
   "language": "python",
   "name": "datascience"
  },
  "language_info": {
   "codemirror_mode": {
    "name": "ipython",
    "version": 3
   },
   "file_extension": ".py",
   "mimetype": "text/x-python",
   "name": "python",
   "nbconvert_exporter": "python",
   "pygments_lexer": "ipython3",
   "version": "3.9.5"
  }
 },
 "nbformat": 4,
 "nbformat_minor": 5
}
